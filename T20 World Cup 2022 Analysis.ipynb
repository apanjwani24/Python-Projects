{
 "cells": [
  {
   "cell_type": "markdown",
   "id": "9769fd2b",
   "metadata": {},
   "source": [
    "#### T20 World Cup 2022 Analysis\n",
    "##### Project by: Aakanksha Panjwani"
   ]
  },
  {
   "cell_type": "markdown",
   "id": "49541fee",
   "metadata": {},
   "source": [
    "Data: https://statso.io/t20-world-cup-2022-dataset/"
   ]
  },
  {
   "cell_type": "code",
   "execution_count": 4,
   "id": "36a5b47f",
   "metadata": {},
   "outputs": [],
   "source": [
    "import pandas as pd\n",
    "import numpy as np\n",
    "import matplotlib.pyplot as plt\n",
    "import seaborn as sns\n",
    "import squarify"
   ]
  },
  {
   "cell_type": "code",
   "execution_count": 105,
   "id": "7a8c3dac",
   "metadata": {
    "scrolled": false
   },
   "outputs": [],
   "source": [
    "data = pd.read_csv(r\"E:\\BSc DS&BA\\Projects\\t20-world-cup-22.csv\")"
   ]
  },
  {
   "cell_type": "code",
   "execution_count": 6,
   "id": "024883d5",
   "metadata": {},
   "outputs": [],
   "source": [
    "abandoned = [False,False,False,False,False,True,False,False,True,False,False,False,True,True,False,False,False,False,False,False,False,False,False,False,False,False,False,False,False,False,False,False,False]\n",
    "data['match_abandoned'] = abandoned"
   ]
  },
  {
   "cell_type": "code",
   "execution_count": 121,
   "id": "0f2db9fc",
   "metadata": {},
   "outputs": [
    {
     "data": {
      "text/html": [
       "<div>\n",
       "<style scoped>\n",
       "    .dataframe tbody tr th:only-of-type {\n",
       "        vertical-align: middle;\n",
       "    }\n",
       "\n",
       "    .dataframe tbody tr th {\n",
       "        vertical-align: top;\n",
       "    }\n",
       "\n",
       "    .dataframe thead th {\n",
       "        text-align: right;\n",
       "    }\n",
       "</style>\n",
       "<table border=\"1\" class=\"dataframe\">\n",
       "  <thead>\n",
       "    <tr style=\"text-align: right;\">\n",
       "      <th></th>\n",
       "      <th>venue</th>\n",
       "      <th>team1</th>\n",
       "      <th>team2</th>\n",
       "      <th>stage</th>\n",
       "      <th>toss winner</th>\n",
       "      <th>toss decision</th>\n",
       "      <th>first innings score</th>\n",
       "      <th>first innings wickets</th>\n",
       "      <th>second innings score</th>\n",
       "      <th>second innings wickets</th>\n",
       "      <th>winner</th>\n",
       "      <th>won by</th>\n",
       "      <th>player of the match</th>\n",
       "      <th>top scorer</th>\n",
       "      <th>highest score</th>\n",
       "      <th>best bowler</th>\n",
       "      <th>best bowling figure</th>\n",
       "    </tr>\n",
       "  </thead>\n",
       "  <tbody>\n",
       "    <tr>\n",
       "      <th>0</th>\n",
       "      <td>SCG</td>\n",
       "      <td>New Zealand</td>\n",
       "      <td>Australia</td>\n",
       "      <td>Super 12</td>\n",
       "      <td>Australia</td>\n",
       "      <td>Field</td>\n",
       "      <td>200.0</td>\n",
       "      <td>3.0</td>\n",
       "      <td>111.0</td>\n",
       "      <td>10.0</td>\n",
       "      <td>New Zealand</td>\n",
       "      <td>Runs</td>\n",
       "      <td>Devon Conway</td>\n",
       "      <td>Devon Conway</td>\n",
       "      <td>92.0</td>\n",
       "      <td>Tim Southee</td>\n",
       "      <td>3-6</td>\n",
       "    </tr>\n",
       "    <tr>\n",
       "      <th>1</th>\n",
       "      <td>Optus Stadium</td>\n",
       "      <td>Afghanistan</td>\n",
       "      <td>England</td>\n",
       "      <td>Super 12</td>\n",
       "      <td>England</td>\n",
       "      <td>Field</td>\n",
       "      <td>112.0</td>\n",
       "      <td>10.0</td>\n",
       "      <td>113.0</td>\n",
       "      <td>5.0</td>\n",
       "      <td>England</td>\n",
       "      <td>Wickets</td>\n",
       "      <td>Sam Curran</td>\n",
       "      <td>Ibrahim Zadran</td>\n",
       "      <td>32.0</td>\n",
       "      <td>Sam Curran</td>\n",
       "      <td>5-10</td>\n",
       "    </tr>\n",
       "    <tr>\n",
       "      <th>2</th>\n",
       "      <td>Blundstone Arena</td>\n",
       "      <td>Ireland</td>\n",
       "      <td>Sri lanka</td>\n",
       "      <td>Super 12</td>\n",
       "      <td>Ireland</td>\n",
       "      <td>Bat</td>\n",
       "      <td>128.0</td>\n",
       "      <td>8.0</td>\n",
       "      <td>133.0</td>\n",
       "      <td>1.0</td>\n",
       "      <td>Sri lanka</td>\n",
       "      <td>Wickets</td>\n",
       "      <td>Kusal Mendis</td>\n",
       "      <td>Kusal Mendis</td>\n",
       "      <td>68.0</td>\n",
       "      <td>Maheesh Theekshana</td>\n",
       "      <td>2-19</td>\n",
       "    </tr>\n",
       "    <tr>\n",
       "      <th>3</th>\n",
       "      <td>MCG</td>\n",
       "      <td>Pakistan</td>\n",
       "      <td>India</td>\n",
       "      <td>Super 12</td>\n",
       "      <td>India</td>\n",
       "      <td>Field</td>\n",
       "      <td>159.0</td>\n",
       "      <td>8.0</td>\n",
       "      <td>160.0</td>\n",
       "      <td>6.0</td>\n",
       "      <td>India</td>\n",
       "      <td>Wickets</td>\n",
       "      <td>Virat Kohli</td>\n",
       "      <td>Virat Kohli</td>\n",
       "      <td>82.0</td>\n",
       "      <td>Hardik Pandya</td>\n",
       "      <td>3-30</td>\n",
       "    </tr>\n",
       "    <tr>\n",
       "      <th>4</th>\n",
       "      <td>Blundstone Arena</td>\n",
       "      <td>Bangladesh</td>\n",
       "      <td>Netherlands</td>\n",
       "      <td>Super 12</td>\n",
       "      <td>Netherlands</td>\n",
       "      <td>Field</td>\n",
       "      <td>144.0</td>\n",
       "      <td>8.0</td>\n",
       "      <td>135.0</td>\n",
       "      <td>10.0</td>\n",
       "      <td>Bangladesh</td>\n",
       "      <td>Runs</td>\n",
       "      <td>Taskin Ahmed</td>\n",
       "      <td>Colin Ackermann</td>\n",
       "      <td>62.0</td>\n",
       "      <td>Taskin Ahmed</td>\n",
       "      <td>4-25</td>\n",
       "    </tr>\n",
       "  </tbody>\n",
       "</table>\n",
       "</div>"
      ],
      "text/plain": [
       "              venue        team1        team2     stage  toss winner  \\\n",
       "0               SCG  New Zealand    Australia  Super 12    Australia   \n",
       "1     Optus Stadium  Afghanistan      England  Super 12      England   \n",
       "2  Blundstone Arena      Ireland    Sri lanka  Super 12      Ireland   \n",
       "3               MCG     Pakistan        India  Super 12        India   \n",
       "4  Blundstone Arena   Bangladesh  Netherlands  Super 12  Netherlands   \n",
       "\n",
       "  toss decision  first innings score  first innings wickets  \\\n",
       "0         Field                200.0                    3.0   \n",
       "1         Field                112.0                   10.0   \n",
       "2           Bat                128.0                    8.0   \n",
       "3         Field                159.0                    8.0   \n",
       "4         Field                144.0                    8.0   \n",
       "\n",
       "   second innings score  second innings wickets       winner   won by  \\\n",
       "0                 111.0                    10.0  New Zealand     Runs   \n",
       "1                 113.0                     5.0      England  Wickets   \n",
       "2                 133.0                     1.0    Sri lanka  Wickets   \n",
       "3                 160.0                     6.0        India  Wickets   \n",
       "4                 135.0                    10.0   Bangladesh     Runs   \n",
       "\n",
       "  player of the match       top scorer  highest score         best bowler  \\\n",
       "0        Devon Conway     Devon Conway           92.0         Tim Southee   \n",
       "1          Sam Curran   Ibrahim Zadran           32.0          Sam Curran   \n",
       "2        Kusal Mendis     Kusal Mendis           68.0  Maheesh Theekshana   \n",
       "3         Virat Kohli      Virat Kohli           82.0       Hardik Pandya   \n",
       "4        Taskin Ahmed  Colin Ackermann           62.0        Taskin Ahmed   \n",
       "\n",
       "  best bowling figure  \n",
       "0                 3-6  \n",
       "1                5-10  \n",
       "2                2-19  \n",
       "3                3-30  \n",
       "4                4-25  "
      ]
     },
     "execution_count": 121,
     "metadata": {},
     "output_type": "execute_result"
    }
   ],
   "source": [
    "data.head()"
   ]
  },
  {
   "cell_type": "markdown",
   "id": "aed131b6",
   "metadata": {},
   "source": [
    "#### Key to Variables"
   ]
  },
  {
   "cell_type": "raw",
   "id": "4b56c72f",
   "metadata": {},
   "source": [
    "venue: The venue where the match was played\n",
    "team1: the team that batted first\n",
    "team2: the team that batted second\n",
    "stage: stage of the match (super 12, semi-final, or final)\n",
    "toss winner: the team that won the toss\n",
    "toss decision: the decision of the captain after winning the toss\n",
    "first innings score: runs scored in the first innings\n",
    "first innings wickets: the number of wickets lost in the first innings\n",
    "second innings score: runs scored in the second innings\n",
    "second innings wickets: the number of wickets lost in the second innings\n",
    "winner: the team that won the match\n",
    "won by: how the team won the match (wickets or runs)\n",
    "player of the match: the player of the match\n",
    "top scorer: the player who scored highest in the match\n",
    "highest score: the highest runs scored in the match by the player\n",
    "best bowler: the player who took the most wickets in the match\n",
    "best bowling figure: the number of wickets taken and runs given by the best bowler in the match"
   ]
  },
  {
   "cell_type": "code",
   "execution_count": 8,
   "id": "96eb7d0f",
   "metadata": {},
   "outputs": [
    {
     "data": {
      "text/plain": [
       "Index(['venue', 'team1', 'team2', 'stage', 'toss winner', 'toss decision',\n",
       "       'first innings score', 'first innings wickets', 'second innings score',\n",
       "       'second innings wickets', 'winner', 'won by', 'player of the match',\n",
       "       'top scorer', 'highest score', 'best bowler', 'best bowling figure',\n",
       "       'match_abandoned'],\n",
       "      dtype='object')"
      ]
     },
     "execution_count": 8,
     "metadata": {},
     "output_type": "execute_result"
    }
   ],
   "source": [
    "data.columns"
   ]
  },
  {
   "cell_type": "code",
   "execution_count": 9,
   "id": "2de16f4b",
   "metadata": {},
   "outputs": [
    {
     "name": "stdout",
     "output_type": "stream",
     "text": [
      "<class 'pandas.core.frame.DataFrame'>\n",
      "RangeIndex: 33 entries, 0 to 32\n",
      "Data columns (total 18 columns):\n",
      " #   Column                  Non-Null Count  Dtype  \n",
      "---  ------                  --------------  -----  \n",
      " 0   venue                   33 non-null     object \n",
      " 1   team1                   33 non-null     object \n",
      " 2   team2                   33 non-null     object \n",
      " 3   stage                   33 non-null     object \n",
      " 4   toss winner             30 non-null     object \n",
      " 5   toss decision           30 non-null     object \n",
      " 6   first innings score     30 non-null     float64\n",
      " 7   first innings wickets   30 non-null     float64\n",
      " 8   second innings score    30 non-null     float64\n",
      " 9   second innings wickets  30 non-null     float64\n",
      " 10  winner                  29 non-null     object \n",
      " 11  won by                  29 non-null     object \n",
      " 12  player of the match     29 non-null     object \n",
      " 13  top scorer              30 non-null     object \n",
      " 14  highest score           30 non-null     float64\n",
      " 15  best bowler             30 non-null     object \n",
      " 16  best bowling figure     30 non-null     object \n",
      " 17  match_abandoned         33 non-null     bool   \n",
      "dtypes: bool(1), float64(5), object(12)\n",
      "memory usage: 4.5+ KB\n"
     ]
    }
   ],
   "source": [
    "data.info()"
   ]
  },
  {
   "cell_type": "code",
   "execution_count": 10,
   "id": "430d878b",
   "metadata": {
    "scrolled": true
   },
   "outputs": [
    {
     "data": {
      "text/plain": [
       "venue                     0\n",
       "team1                     0\n",
       "team2                     0\n",
       "stage                     0\n",
       "toss winner               3\n",
       "toss decision             3\n",
       "first innings score       3\n",
       "first innings wickets     3\n",
       "second innings score      3\n",
       "second innings wickets    3\n",
       "winner                    4\n",
       "won by                    4\n",
       "player of the match       4\n",
       "top scorer                3\n",
       "highest score             3\n",
       "best bowler               3\n",
       "best bowling figure       3\n",
       "match_abandoned           0\n",
       "dtype: int64"
      ]
     },
     "execution_count": 10,
     "metadata": {},
     "output_type": "execute_result"
    }
   ],
   "source": [
    "pd.isnull(data).sum()"
   ]
  },
  {
   "cell_type": "code",
   "execution_count": 11,
   "id": "c7520bb7",
   "metadata": {},
   "outputs": [
    {
     "data": {
      "text/plain": [
       "match_abandoned\n",
       "False    29\n",
       "True      4\n",
       "dtype: int64"
      ]
     },
     "execution_count": 11,
     "metadata": {},
     "output_type": "execute_result"
    }
   ],
   "source": [
    "matchAbandoned = data.value_counts(data['match_abandoned'])\n",
    "matchAbandoned"
   ]
  },
  {
   "cell_type": "markdown",
   "id": "766d68ce",
   "metadata": {},
   "source": [
    "#### Four matches were abandoned either without a single ball bowled or a no result due to weather conditions. "
   ]
  },
  {
   "cell_type": "code",
   "execution_count": 12,
   "id": "cc3c7c8c",
   "metadata": {},
   "outputs": [],
   "source": [
    "data.drop([data.index[5],data.index[8],data.index[12],data.index[13]], inplace=True)"
   ]
  },
  {
   "cell_type": "code",
   "execution_count": 13,
   "id": "f7ec6fd6",
   "metadata": {},
   "outputs": [
    {
     "data": {
      "text/plain": [
       "venue                     0\n",
       "team1                     0\n",
       "team2                     0\n",
       "stage                     0\n",
       "toss winner               0\n",
       "toss decision             0\n",
       "first innings score       0\n",
       "first innings wickets     0\n",
       "second innings score      0\n",
       "second innings wickets    0\n",
       "winner                    0\n",
       "won by                    0\n",
       "player of the match       0\n",
       "top scorer                0\n",
       "highest score             0\n",
       "best bowler               0\n",
       "best bowling figure       0\n",
       "match_abandoned           0\n",
       "dtype: int64"
      ]
     },
     "execution_count": 13,
     "metadata": {},
     "output_type": "execute_result"
    }
   ],
   "source": [
    "pd.isnull(data).sum()"
   ]
  },
  {
   "cell_type": "code",
   "execution_count": 58,
   "id": "a2612b1d",
   "metadata": {},
   "outputs": [
    {
     "data": {
      "image/png": "[encoded data removed]",
      "text/plain": [
       "<Figure size 1080x360 with 1 Axes>"
      ]
     },
     "metadata": {
      "needs_background": "light"
     },
     "output_type": "display_data"
    }
   ],
   "source": [
    "fig = plt.figure(figsize=(15,5))\n",
    "ax = sns.countplot(x='winner', data=data, order=data['winner'].value_counts(ascending=False).index, palette='coolwarm')\n",
    "for bars in ax.containers:\n",
    "    ax.bar_label(bars)\n",
    "plt.title(\"Number of matches won by countries\")\n",
    "plt.show()"
   ]
  },
  {
   "cell_type": "markdown",
   "id": "f46787de",
   "metadata": {},
   "source": [
    "#### As England won the T20 World Cup 2022, they won all 5 matches. India and Pakistan both won 4 matches."
   ]
  },
  {
   "cell_type": "code",
   "execution_count": 103,
   "id": "4921e4b4",
   "metadata": {},
   "outputs": [
    {
     "name": "stdout",
     "output_type": "stream",
     "text": [
      "won by\n",
      "Runs       16\n",
      "Wickets    13\n",
      "dtype: int64\n"
     ]
    },
    {
     "data": {
      "image/png": "[encoded data removed]",
      "text/plain": [
       "<Figure size 432x288 with 1 Axes>"
      ]
     },
     "metadata": {},
     "output_type": "display_data"
    }
   ],
   "source": [
    "won_by = data.value_counts(data['won by'])\n",
    "print(won_by)\n",
    "label = won_by.index\n",
    "counts = won_by.values\n",
    "plt.pie(x=counts,startangle=90, colors=['lightsteelblue','salmon'], autopct=\"%0.0f%%\")\n",
    "plt.legend(label)\n",
    "plt.title(\"Number of matches won by Runs or Wickets\")\n",
    "plt.show()"
   ]
  },
  {
   "cell_type": "markdown",
   "id": "6651127d",
   "metadata": {},
   "source": [
    "#### 16 matches were won by batting first while 13 matches were won by bowling first."
   ]
  },
  {
   "cell_type": "code",
   "execution_count": 70,
   "id": "415848fe",
   "metadata": {},
   "outputs": [],
   "source": [
    "toss = data[['toss winner','toss decision','winner']]\n",
    "toss.reset_index(drop=True, inplace=True)"
   ]
  },
  {
   "cell_type": "code",
   "execution_count": 17,
   "id": "1b5e618d",
   "metadata": {},
   "outputs": [
    {
     "name": "stdout",
     "output_type": "stream",
     "text": [
      "Number of occurences where team won toss AND match:  13\n",
      "Number of occurences where team won toss BUT lost match:  16\n"
     ]
    }
   ],
   "source": [
    "main = []\n",
    "for i in range(len(toss)):\n",
    "    temp = list(toss.loc[i])\n",
    "    main.append(temp)\n",
    "    \n",
    "tossWinMatch = tossLoseMatch = 0\n",
    "    \n",
    "for item in main:\n",
    "    if (item[0] == item[2]):\n",
    "        tossWinMatch += 1\n",
    "    else:\n",
    "        tossLoseMatch +=1\n",
    "        \n",
    "print(\"Number of occurences where team won toss AND match: \",tossWinMatch)\n",
    "print(\"Number of occurences where team won toss BUT lost match: \",tossLoseMatch)"
   ]
  },
  {
   "cell_type": "code",
   "execution_count": 115,
   "id": "31210279",
   "metadata": {},
   "outputs": [
    {
     "data": {
      "image/png": "[encoded data removed]",
      "text/plain": [
       "<Figure size 432x288 with 1 Axes>"
      ]
     },
     "metadata": {},
     "output_type": "display_data"
    }
   ],
   "source": [
    "plt.pie(x=[tossWinMatch,tossLoseMatch], startangle=90, colors=['salmon','lightsteelblue'], autopct=\"%0.0f%%\")\n",
    "plt.legend(['Team won toss AND match','Team won toss BUT LOST match'], loc='best')\n",
    "plt.title(\"Chances of team winning toss and match\")\n",
    "plt.show()"
   ]
  },
  {
   "cell_type": "markdown",
   "id": "40533ff0",
   "metadata": {},
   "source": [
    "#### In 13 matches, the team who won the toss also won the match, whereas in 16 matches, the team who won the toss lost the match."
   ]
  },
  {
   "cell_type": "code",
   "execution_count": 50,
   "id": "60f9a33e",
   "metadata": {},
   "outputs": [
    {
     "data": {
      "text/html": [
       "<div>\n",
       "<style scoped>\n",
       "    .dataframe tbody tr th:only-of-type {\n",
       "        vertical-align: middle;\n",
       "    }\n",
       "\n",
       "    .dataframe tbody tr th {\n",
       "        vertical-align: top;\n",
       "    }\n",
       "\n",
       "    .dataframe thead th {\n",
       "        text-align: right;\n",
       "    }\n",
       "</style>\n",
       "<table border=\"1\" class=\"dataframe\">\n",
       "  <thead>\n",
       "    <tr style=\"text-align: right;\">\n",
       "      <th></th>\n",
       "      <th>top scorer</th>\n",
       "      <th>highest score</th>\n",
       "    </tr>\n",
       "  </thead>\n",
       "  <tbody>\n",
       "    <tr>\n",
       "      <th>21</th>\n",
       "      <td>Virat Kohli</td>\n",
       "      <td>208.0</td>\n",
       "    </tr>\n",
       "    <tr>\n",
       "      <th>20</th>\n",
       "      <td>Suryakumar Yadav</td>\n",
       "      <td>129.0</td>\n",
       "    </tr>\n",
       "    <tr>\n",
       "      <th>15</th>\n",
       "      <td>Najmul Hossain</td>\n",
       "      <td>125.0</td>\n",
       "    </tr>\n",
       "    <tr>\n",
       "      <th>17</th>\n",
       "      <td>Rilee Rossouw</td>\n",
       "      <td>109.0</td>\n",
       "    </tr>\n",
       "    <tr>\n",
       "      <th>14</th>\n",
       "      <td>Mohammad Rizwan</td>\n",
       "      <td>106.0</td>\n",
       "    </tr>\n",
       "    <tr>\n",
       "      <th>6</th>\n",
       "      <td>Glenn Phillips</td>\n",
       "      <td>104.0</td>\n",
       "    </tr>\n",
       "    <tr>\n",
       "      <th>3</th>\n",
       "      <td>Colin Ackermann</td>\n",
       "      <td>103.0</td>\n",
       "    </tr>\n",
       "    <tr>\n",
       "      <th>4</th>\n",
       "      <td>Devon Conway</td>\n",
       "      <td>92.0</td>\n",
       "    </tr>\n",
       "    <tr>\n",
       "      <th>0</th>\n",
       "      <td>Alex Hales</td>\n",
       "      <td>86.0</td>\n",
       "    </tr>\n",
       "    <tr>\n",
       "      <th>8</th>\n",
       "      <td>Jos Buttler</td>\n",
       "      <td>73.0</td>\n",
       "    </tr>\n",
       "  </tbody>\n",
       "</table>\n",
       "</div>"
      ],
      "text/plain": [
       "          top scorer  highest score\n",
       "21       Virat Kohli          208.0\n",
       "20  Suryakumar Yadav          129.0\n",
       "15    Najmul Hossain          125.0\n",
       "17     Rilee Rossouw          109.0\n",
       "14   Mohammad Rizwan          106.0\n",
       "6     Glenn Phillips          104.0\n",
       "3    Colin Ackermann          103.0\n",
       "4       Devon Conway           92.0\n",
       "0         Alex Hales           86.0\n",
       "8        Jos Buttler           73.0"
      ]
     },
     "execution_count": 50,
     "metadata": {},
     "output_type": "execute_result"
    }
   ],
   "source": [
    "hS = data.groupby(['top scorer'], as_index=False)['highest score'].sum().sort_values(by='highest score', \n",
    "                                                                                                ascending=False).head(10)\n",
    "hS"
   ]
  },
  {
   "cell_type": "code",
   "execution_count": 69,
   "id": "9b384f57",
   "metadata": {},
   "outputs": [
    {
     "data": {
      "image/png": "[encoded data removed]",
      "text/plain": [
       "<Figure size 720x360 with 1 Axes>"
      ]
     },
     "metadata": {
      "needs_background": "light"
     },
     "output_type": "display_data"
    }
   ],
   "source": [
    "label = [\"Virat Kolhi\\n208\",\"Suryakumar Yadav\\n129\",\"Najmul Hossain\\n125\",\"Rilee Rossouw\\n109\",\"Mohammad Rizwan\\n106\",\n",
    "         \"Glenn Phillips\\n104\",\"Colin Ackermann\\n103\",\"DevonConway\\n92\",\"Alex Hales\\n86\",\"Jos Butler\\n73\"]\n",
    "fig = plt.figure(figsize=(10,5))\n",
    "plt.axis(\"off\")\n",
    "squarify.plot(hS['highest score'], label=label, color=sns.color_palette(\"coolwarm\"), pad=0.05)\n",
    "plt.title(\"Top Scorers of T20 World Cup 2022\")\n",
    "plt.show()"
   ]
  },
  {
   "cell_type": "markdown",
   "id": "eae67e11",
   "metadata": {},
   "source": [
    "#### Virat Kohli (India), Suryakumar Yadav (India) and Najmul Hossain (Bangladesh) were the top scorers contributing maximum runs for their respective countries."
   ]
  },
  {
   "cell_type": "code",
   "execution_count": 123,
   "id": "6f9df12b",
   "metadata": {},
   "outputs": [
    {
     "data": {
      "image/png": "[encoded data removed]",
      "text/plain": [
       "<Figure size 1080x720 with 1 Axes>"
      ]
     },
     "metadata": {
      "needs_background": "light"
     },
     "output_type": "display_data"
    }
   ],
   "source": [
    "fig = plt.figure(figsize=(15,10))\n",
    "ax = sns.countplot(y='best bowler', data=data, order=data['best bowler'].value_counts(ascending=False).index, palette='coolwarm')\n",
    "for bars in ax.containers:\n",
    "    ax.bar_label(bars)\n",
    "plt.title(\"Best bowler of T20 World Cup 2022\")\n",
    "plt.show()"
   ]
  },
  {
   "cell_type": "markdown",
   "id": "d30cdf6a",
   "metadata": {},
   "source": [
    "#### Sam Curran (England), Shaheen Afridi (Pakistan) and Lungi Ngidi (South Africa) had the best bowling figures across matches."
   ]
  },
  {
   "cell_type": "code",
   "execution_count": 110,
   "id": "130ea14a",
   "metadata": {},
   "outputs": [
    {
     "data": {
      "text/html": [
       "<div>\n",
       "<style scoped>\n",
       "    .dataframe tbody tr th:only-of-type {\n",
       "        vertical-align: middle;\n",
       "    }\n",
       "\n",
       "    .dataframe tbody tr th {\n",
       "        vertical-align: top;\n",
       "    }\n",
       "\n",
       "    .dataframe thead th {\n",
       "        text-align: right;\n",
       "    }\n",
       "</style>\n",
       "<table border=\"1\" class=\"dataframe\">\n",
       "  <thead>\n",
       "    <tr style=\"text-align: right;\">\n",
       "      <th></th>\n",
       "      <th>venue</th>\n",
       "      <th>first innings score</th>\n",
       "      <th>second innings score</th>\n",
       "    </tr>\n",
       "  </thead>\n",
       "  <tbody>\n",
       "    <tr>\n",
       "      <th>0</th>\n",
       "      <td>Adelaide Oval</td>\n",
       "      <td>1107.0</td>\n",
       "      <td>1022.0</td>\n",
       "    </tr>\n",
       "    <tr>\n",
       "      <th>1</th>\n",
       "      <td>Blundstone Arena</td>\n",
       "      <td>351.0</td>\n",
       "      <td>319.0</td>\n",
       "    </tr>\n",
       "    <tr>\n",
       "      <th>2</th>\n",
       "      <td>MCG</td>\n",
       "      <td>639.0</td>\n",
       "      <td>518.0</td>\n",
       "    </tr>\n",
       "    <tr>\n",
       "      <th>3</th>\n",
       "      <td>Optus Stadium</td>\n",
       "      <td>623.0</td>\n",
       "      <td>632.0</td>\n",
       "    </tr>\n",
       "    <tr>\n",
       "      <th>4</th>\n",
       "      <td>SCG</td>\n",
       "      <td>1229.0</td>\n",
       "      <td>842.0</td>\n",
       "    </tr>\n",
       "    <tr>\n",
       "      <th>5</th>\n",
       "      <td>The Gabba</td>\n",
       "      <td>652.0</td>\n",
       "      <td>591.0</td>\n",
       "    </tr>\n",
       "  </tbody>\n",
       "</table>\n",
       "</div>"
      ],
      "text/plain": [
       "              venue  first innings score  second innings score\n",
       "0     Adelaide Oval               1107.0                1022.0\n",
       "1  Blundstone Arena                351.0                 319.0\n",
       "2               MCG                639.0                 518.0\n",
       "3     Optus Stadium                623.0                 632.0\n",
       "4               SCG               1229.0                 842.0\n",
       "5         The Gabba                652.0                 591.0"
      ]
     },
     "execution_count": 110,
     "metadata": {},
     "output_type": "execute_result"
    }
   ],
   "source": [
    "venueVSinnings = data.groupby(['venue'], as_index=False)[['first innings score','second innings score']].sum()\n",
    "venueVSinnings"
   ]
  },
  {
   "cell_type": "code",
   "execution_count": 113,
   "id": "a4c70af8",
   "metadata": {},
   "outputs": [
    {
     "data": {
      "image/png": "[encoded data removed]",
      "text/plain": [
       "<Figure size 1440x360 with 1 Axes>"
      ]
     },
     "metadata": {
      "needs_background": "light"
     },
     "output_type": "display_data"
    }
   ],
   "source": [
    "x = venueVSinnings['venue']\n",
    "first = venueVSinnings['first innings score']\n",
    "second = venueVSinnings['second innings score']\n",
    "x_axis = np.arange(len(x))\n",
    "fig = plt.figure(figsize=(20,5))\n",
    "plt.bar(x_axis-0.2,first,0.4,color='lightsteelblue')\n",
    "plt.bar(x_axis+0.2,second,0.4,color='lightsalmon')\n",
    "plt.xticks(x_axis,x)\n",
    "plt.xlabel(\"Venue\")\n",
    "plt.ylabel(\"Runs scored\")\n",
    "plt.title(\"Best stadium to bat first or chase\")\n",
    "plt.legend([\"First innings\",\"Second innings\"])\n",
    "plt.show()"
   ]
  },
  {
   "cell_type": "markdown",
   "id": "5b06da6a",
   "metadata": {},
   "source": [
    "#### SCG was the only stadium that was best to bat first. The others didn't make much difference while batting first or chasing."
   ]
  },
  {
   "cell_type": "code",
   "execution_count": 117,
   "id": "b6b73f1d",
   "metadata": {},
   "outputs": [
    {
     "data": {
      "text/html": [
       "<div>\n",
       "<style scoped>\n",
       "    .dataframe tbody tr th:only-of-type {\n",
       "        vertical-align: middle;\n",
       "    }\n",
       "\n",
       "    .dataframe tbody tr th {\n",
       "        vertical-align: top;\n",
       "    }\n",
       "\n",
       "    .dataframe thead th {\n",
       "        text-align: right;\n",
       "    }\n",
       "</style>\n",
       "<table border=\"1\" class=\"dataframe\">\n",
       "  <thead>\n",
       "    <tr style=\"text-align: right;\">\n",
       "      <th></th>\n",
       "      <th>venue</th>\n",
       "      <th>first innings wickets</th>\n",
       "      <th>second innings wickets</th>\n",
       "    </tr>\n",
       "  </thead>\n",
       "  <tbody>\n",
       "    <tr>\n",
       "      <th>0</th>\n",
       "      <td>Adelaide Oval</td>\n",
       "      <td>48.0</td>\n",
       "      <td>40.0</td>\n",
       "    </tr>\n",
       "    <tr>\n",
       "      <th>1</th>\n",
       "      <td>Blundstone Arena</td>\n",
       "      <td>21.0</td>\n",
       "      <td>11.0</td>\n",
       "    </tr>\n",
       "    <tr>\n",
       "      <th>2</th>\n",
       "      <td>MCG</td>\n",
       "      <td>31.0</td>\n",
       "      <td>26.0</td>\n",
       "    </tr>\n",
       "    <tr>\n",
       "      <th>3</th>\n",
       "      <td>Optus Stadium</td>\n",
       "      <td>42.0</td>\n",
       "      <td>25.0</td>\n",
       "    </tr>\n",
       "    <tr>\n",
       "      <th>4</th>\n",
       "      <td>SCG</td>\n",
       "      <td>38.0</td>\n",
       "      <td>57.0</td>\n",
       "    </tr>\n",
       "    <tr>\n",
       "      <th>5</th>\n",
       "      <td>The Gabba</td>\n",
       "      <td>26.0</td>\n",
       "      <td>28.0</td>\n",
       "    </tr>\n",
       "  </tbody>\n",
       "</table>\n",
       "</div>"
      ],
      "text/plain": [
       "              venue  first innings wickets  second innings wickets\n",
       "0     Adelaide Oval                   48.0                    40.0\n",
       "1  Blundstone Arena                   21.0                    11.0\n",
       "2               MCG                   31.0                    26.0\n",
       "3     Optus Stadium                   42.0                    25.0\n",
       "4               SCG                   38.0                    57.0\n",
       "5         The Gabba                   26.0                    28.0"
      ]
     },
     "execution_count": 117,
     "metadata": {},
     "output_type": "execute_result"
    }
   ],
   "source": [
    "venueVSwickets = data.groupby(['venue'], as_index=False)[['first innings wickets','second innings wickets']].sum()\n",
    "venueVSwickets"
   ]
  },
  {
   "cell_type": "code",
   "execution_count": 120,
   "id": "adddafea",
   "metadata": {},
   "outputs": [
    {
     "data": {
      "image/png": "[encoded data removed]",
      "text/plain": [
       "<Figure size 1440x360 with 1 Axes>"
      ]
     },
     "metadata": {
      "needs_background": "light"
     },
     "output_type": "display_data"
    }
   ],
   "source": [
    "x = venueVSwickets['venue']\n",
    "first = venueVSwickets['first innings wickets']\n",
    "second = venueVSwickets['second innings wickets']\n",
    "x_axis = np.arange(len(x))\n",
    "fig = plt.figure(figsize=(20,5))\n",
    "plt.bar(x_axis-0.2,first,0.4,color='mediumblue')\n",
    "plt.bar(x_axis+0.2,second,0.4,color='salmon')\n",
    "plt.xticks(x_axis,x)\n",
    "plt.xlabel(\"Venue\")\n",
    "plt.ylabel(\"Wickets taken\")\n",
    "plt.title(\"Best stadium to bowl first or defend\")\n",
    "plt.legend([\"First innings\",\"Second innings\"])\n",
    "plt.show()"
   ]
  },
  {
   "cell_type": "markdown",
   "id": "8e06fa88",
   "metadata": {},
   "source": [
    "#### SCG was the best stadium to bowl while defending the target while Optus Stadium was the best stadium to bowl first."
   ]
  }
 ],
 "metadata": {
  "kernelspec": {
   "display_name": "Python 3",
   "language": "python",
   "name": "python3"
  },
  "language_info": {
   "codemirror_mode": {
    "name": "ipython",
    "version": 3
   },
   "file_extension": ".py",
   "mimetype": "text/x-python",
   "name": "python",
   "nbconvert_exporter": "python",
   "pygments_lexer": "ipython3",
   "version": "3.8.8"
  }
 },
 "nbformat": 4,
 "nbformat_minor": 5
}
